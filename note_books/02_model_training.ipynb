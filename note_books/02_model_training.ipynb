{
 "cells": [
  {
   "cell_type": "code",
   "execution_count": 1,
   "id": "cb07a456-7d98-4863-906b-8cf177090145",
   "metadata": {},
   "outputs": [],
   "source": [
    "import pandas as pd\n",
    "df = pd.read_csv('../data/cleaned_spam.csv')"
   ]
  },
  {
   "cell_type": "code",
   "execution_count": 2,
   "id": "d81ac1ff-5572-4326-9dea-1afee1097911",
   "metadata": {},
   "outputs": [
    {
     "name": "stdout",
     "output_type": "stream",
     "text": [
      "     label                                            message\n",
      "0      ham  go jurong point crazy available bugis n great ...\n",
      "1      ham                            ok lar joking wif u oni\n",
      "2     spam  free entry wkly comp win fa cup final tkts st ...\n",
      "3      ham                u dun say early hor u c already say\n",
      "4      ham  nah dont think he goes usf he lives around though\n",
      "...    ...                                                ...\n",
      "5164  spam  nd time tried contact u u pound prize claim ea...\n",
      "5165   ham                          b going esplanade fr home\n",
      "5166   ham                        pity mood soany suggestions\n",
      "5167   ham  guy bitching acted like id interested buying s...\n",
      "5168   ham                                     rofl true name\n",
      "\n",
      "[5169 rows x 2 columns]\n"
     ]
    }
   ],
   "source": [
    "print(df)"
   ]
  },
  {
   "cell_type": "code",
   "execution_count": 3,
   "id": "0055d7fa-0f16-486f-9568-73177fdade79",
   "metadata": {},
   "outputs": [
    {
     "data": {
      "text/html": [
       "<div>\n",
       "<style scoped>\n",
       "    .dataframe tbody tr th:only-of-type {\n",
       "        vertical-align: middle;\n",
       "    }\n",
       "\n",
       "    .dataframe tbody tr th {\n",
       "        vertical-align: top;\n",
       "    }\n",
       "\n",
       "    .dataframe thead th {\n",
       "        text-align: right;\n",
       "    }\n",
       "</style>\n",
       "<table border=\"1\" class=\"dataframe\">\n",
       "  <thead>\n",
       "    <tr style=\"text-align: right;\">\n",
       "      <th></th>\n",
       "      <th>label</th>\n",
       "      <th>message</th>\n",
       "    </tr>\n",
       "  </thead>\n",
       "  <tbody>\n",
       "    <tr>\n",
       "      <th>0</th>\n",
       "      <td>ham</td>\n",
       "      <td>go jurong point crazy available bugis n great ...</td>\n",
       "    </tr>\n",
       "    <tr>\n",
       "      <th>1</th>\n",
       "      <td>ham</td>\n",
       "      <td>ok lar joking wif u oni</td>\n",
       "    </tr>\n",
       "    <tr>\n",
       "      <th>2</th>\n",
       "      <td>spam</td>\n",
       "      <td>free entry wkly comp win fa cup final tkts st ...</td>\n",
       "    </tr>\n",
       "    <tr>\n",
       "      <th>3</th>\n",
       "      <td>ham</td>\n",
       "      <td>u dun say early hor u c already say</td>\n",
       "    </tr>\n",
       "    <tr>\n",
       "      <th>4</th>\n",
       "      <td>ham</td>\n",
       "      <td>nah dont think he goes usf he lives around though</td>\n",
       "    </tr>\n",
       "  </tbody>\n",
       "</table>\n",
       "</div>"
      ],
      "text/plain": [
       "  label                                            message\n",
       "0   ham  go jurong point crazy available bugis n great ...\n",
       "1   ham                            ok lar joking wif u oni\n",
       "2  spam  free entry wkly comp win fa cup final tkts st ...\n",
       "3   ham                u dun say early hor u c already say\n",
       "4   ham  nah dont think he goes usf he lives around though"
      ]
     },
     "execution_count": 3,
     "metadata": {},
     "output_type": "execute_result"
    }
   ],
   "source": [
    "df.head()"
   ]
  },
  {
   "cell_type": "code",
   "execution_count": 4,
   "id": "c2449da6-e0b4-4a4d-af35-e84d7a6d0045",
   "metadata": {},
   "outputs": [],
   "source": [
    "#converting labels to numbers so that computers can understand "
   ]
  },
  {
   "cell_type": "code",
   "execution_count": 5,
   "id": "04c68231-81f8-4119-ab83-f0e2b1068fef",
   "metadata": {},
   "outputs": [],
   "source": [
    "from sklearn.preprocessing import LabelEncoder\n",
    "le = LabelEncoder()\n",
    "df['label_num'] = le.fit_transform(df['label'])"
   ]
  },
  {
   "cell_type": "code",
   "execution_count": 6,
   "id": "6a0adbdf-f99e-4027-b909-6d272d2ac149",
   "metadata": {},
   "outputs": [
    {
     "data": {
      "text/html": [
       "<div>\n",
       "<style scoped>\n",
       "    .dataframe tbody tr th:only-of-type {\n",
       "        vertical-align: middle;\n",
       "    }\n",
       "\n",
       "    .dataframe tbody tr th {\n",
       "        vertical-align: top;\n",
       "    }\n",
       "\n",
       "    .dataframe thead th {\n",
       "        text-align: right;\n",
       "    }\n",
       "</style>\n",
       "<table border=\"1\" class=\"dataframe\">\n",
       "  <thead>\n",
       "    <tr style=\"text-align: right;\">\n",
       "      <th></th>\n",
       "      <th>label</th>\n",
       "      <th>message</th>\n",
       "      <th>label_num</th>\n",
       "    </tr>\n",
       "  </thead>\n",
       "  <tbody>\n",
       "    <tr>\n",
       "      <th>0</th>\n",
       "      <td>ham</td>\n",
       "      <td>go jurong point crazy available bugis n great ...</td>\n",
       "      <td>0</td>\n",
       "    </tr>\n",
       "    <tr>\n",
       "      <th>1</th>\n",
       "      <td>ham</td>\n",
       "      <td>ok lar joking wif u oni</td>\n",
       "      <td>0</td>\n",
       "    </tr>\n",
       "    <tr>\n",
       "      <th>2</th>\n",
       "      <td>spam</td>\n",
       "      <td>free entry wkly comp win fa cup final tkts st ...</td>\n",
       "      <td>1</td>\n",
       "    </tr>\n",
       "    <tr>\n",
       "      <th>3</th>\n",
       "      <td>ham</td>\n",
       "      <td>u dun say early hor u c already say</td>\n",
       "      <td>0</td>\n",
       "    </tr>\n",
       "    <tr>\n",
       "      <th>4</th>\n",
       "      <td>ham</td>\n",
       "      <td>nah dont think he goes usf he lives around though</td>\n",
       "      <td>0</td>\n",
       "    </tr>\n",
       "  </tbody>\n",
       "</table>\n",
       "</div>"
      ],
      "text/plain": [
       "  label                                            message  label_num\n",
       "0   ham  go jurong point crazy available bugis n great ...          0\n",
       "1   ham                            ok lar joking wif u oni          0\n",
       "2  spam  free entry wkly comp win fa cup final tkts st ...          1\n",
       "3   ham                u dun say early hor u c already say          0\n",
       "4   ham  nah dont think he goes usf he lives around though          0"
      ]
     },
     "execution_count": 6,
     "metadata": {},
     "output_type": "execute_result"
    }
   ],
   "source": [
    "df.head()"
   ]
  },
  {
   "cell_type": "code",
   "execution_count": 8,
   "id": "d6276647-87a2-4535-acee-69b3b28306c3",
   "metadata": {},
   "outputs": [],
   "source": [
    "from sklearn.feature_extraction.text import TfidfVectorizer"
   ]
  },
  {
   "cell_type": "code",
   "execution_count": 9,
   "id": "8ecd9640-d659-4743-a1d0-7cf89ee88776",
   "metadata": {},
   "outputs": [
    {
     "data": {
      "text/plain": [
       "True"
      ]
     },
     "execution_count": 9,
     "metadata": {},
     "output_type": "execute_result"
    }
   ],
   "source": [
    "df.isnull().values.any()"
   ]
  },
  {
   "cell_type": "code",
   "execution_count": 10,
   "id": "c391e7ac-70a1-44c7-ba5b-1a6bb1779c9c",
   "metadata": {},
   "outputs": [
    {
     "data": {
      "text/plain": [
       "label                                         hamhamspamhamham\n",
       "message      go jurong point crazy available bugis n great ...\n",
       "label_num                                                    1\n",
       "dtype: object"
      ]
     },
     "execution_count": 10,
     "metadata": {},
     "output_type": "execute_result"
    }
   ],
   "source": [
    "df.head().sum()"
   ]
  },
  {
   "cell_type": "code",
   "execution_count": 11,
   "id": "a4e9ddd7-afa9-4c61-be17-ce4caab8c80b",
   "metadata": {},
   "outputs": [
    {
     "data": {
      "text/plain": [
       "label        0\n",
       "message      4\n",
       "label_num    0\n",
       "dtype: int64"
      ]
     },
     "execution_count": 11,
     "metadata": {},
     "output_type": "execute_result"
    }
   ],
   "source": [
    "df.isnull().sum()"
   ]
  },
  {
   "cell_type": "code",
   "execution_count": 14,
   "id": "4675aee1-5848-4e43-b22c-68fe558788dd",
   "metadata": {},
   "outputs": [],
   "source": [
    "df = df[df['message'].str.strip() != '']"
   ]
  },
  {
   "cell_type": "code",
   "execution_count": 15,
   "id": "9041586d-9ef0-41a3-a60b-fafc0c9583e7",
   "metadata": {},
   "outputs": [
    {
     "name": "stdout",
     "output_type": "stream",
     "text": [
      "<class 'pandas.core.frame.DataFrame'>\n",
      "RangeIndex: 5169 entries, 0 to 5168\n",
      "Data columns (total 3 columns):\n",
      " #   Column     Non-Null Count  Dtype \n",
      "---  ------     --------------  ----- \n",
      " 0   label      5169 non-null   object\n",
      " 1   message    5165 non-null   object\n",
      " 2   label_num  5169 non-null   int32 \n",
      "dtypes: int32(1), object(2)\n",
      "memory usage: 101.1+ KB\n"
     ]
    }
   ],
   "source": [
    "df.info()"
   ]
  },
  {
   "cell_type": "code",
   "execution_count": 16,
   "id": "03f22345-e8dd-4d18-8981-007d63bffa0e",
   "metadata": {},
   "outputs": [],
   "source": [
    "df = df[df['message'].fillna('').str.strip() != '']"
   ]
  },
  {
   "cell_type": "code",
   "execution_count": 17,
   "id": "f67b0000-74b9-4e9c-9d9e-ff501b0c78e2",
   "metadata": {},
   "outputs": [
    {
     "name": "stdout",
     "output_type": "stream",
     "text": [
      "<class 'pandas.core.frame.DataFrame'>\n",
      "Index: 5165 entries, 0 to 5168\n",
      "Data columns (total 3 columns):\n",
      " #   Column     Non-Null Count  Dtype \n",
      "---  ------     --------------  ----- \n",
      " 0   label      5165 non-null   object\n",
      " 1   message    5165 non-null   object\n",
      " 2   label_num  5165 non-null   int32 \n",
      "dtypes: int32(1), object(2)\n",
      "memory usage: 141.2+ KB\n"
     ]
    }
   ],
   "source": [
    "df.info()"
   ]
  },
  {
   "cell_type": "code",
   "execution_count": 18,
   "id": "62930307-3d85-4638-bedc-1c177bbf55e9",
   "metadata": {},
   "outputs": [
    {
     "data": {
      "text/plain": [
       "label        0\n",
       "message      0\n",
       "label_num    0\n",
       "dtype: int64"
      ]
     },
     "execution_count": 18,
     "metadata": {},
     "output_type": "execute_result"
    }
   ],
   "source": [
    "df.isnull().sum()"
   ]
  },
  {
   "cell_type": "code",
   "execution_count": 19,
   "id": "1577209a-90ec-4b13-9e56-b262c195cfa5",
   "metadata": {},
   "outputs": [],
   "source": [
    "vectorizer = TfidfVectorizer()\n",
    "X = vectorizer.fit_transform(df['message'])\n",
    "y = df['label_num']"
   ]
  },
  {
   "cell_type": "code",
   "execution_count": 20,
   "id": "a2fda89f-9549-4516-992d-2b0e3ee5ade1",
   "metadata": {},
   "outputs": [
    {
     "name": "stdout",
     "output_type": "stream",
     "text": [
      "  (0, 7877)\t0.1972980531970151\n",
      "  (0, 240)\t0.34525506405018613\n",
      "  (0, 2863)\t0.1616666051245841\n",
      "  (0, 1249)\t0.29121408023733514\n",
      "  (0, 922)\t0.3294490895338877\n",
      "  (0, 3818)\t0.2825154247549802\n",
      "  (0, 8115)\t0.24838761381461125\n",
      "  (0, 2902)\t0.19394266442118066\n",
      "  (0, 924)\t0.29121408023733514\n",
      "  (0, 476)\t0.26670945023868176\n",
      "  (0, 1532)\t0.26670945023868176\n",
      "  (0, 5392)\t0.26939895310026485\n",
      "  (0, 3666)\t0.34525506405018613\n",
      "  (0, 2806)\t0.15626419361886204\n",
      "  (1, 4980)\t0.5462151914163192\n",
      "  (1, 8008)\t0.430209087941822\n",
      "  (1, 3634)\t0.5230695217542618\n",
      "  (1, 3854)\t0.4067004135288511\n",
      "  (1, 4948)\t0.2784998283043077\n",
      "  (2, 5082)\t0.2516925448044852\n",
      "  (2, 329)\t0.17669502363853803\n",
      "  (2, 5739)\t0.2516925448044852\n",
      "  (2, 7535)\t0.13262968221826538\n",
      "  (2, 5686)\t0.2516925448044852\n",
      "  (2, 5793)\t0.17380253256410205\n",
      "  :\t:\n",
      "  (5161, 2584)\t0.5618041558188724\n",
      "  (5161, 2824)\t0.3637632589188606\n",
      "  (5161, 3195)\t0.3679330800605978\n",
      "  (5162, 6936)\t0.5152106794457366\n",
      "  (5162, 6558)\t0.5152106794457366\n",
      "  (5162, 5315)\t0.5152106794457366\n",
      "  (5162, 4530)\t0.4513024123081855\n",
      "  (5163, 718)\t0.36141699263403404\n",
      "  (5163, 61)\t0.34487111577326657\n",
      "  (5163, 2966)\t0.2600150258168885\n",
      "  (5163, 3467)\t0.30484626599644865\n",
      "  (5163, 958)\t0.3000398755937065\n",
      "  (5163, 2716)\t0.29185107574315167\n",
      "  (5163, 2128)\t0.2583491964248243\n",
      "  (5163, 6582)\t0.2175162577984108\n",
      "  (5163, 7673)\t0.22692327209535362\n",
      "  (5163, 4744)\t0.2219492956115312\n",
      "  (5163, 7927)\t0.20562702015071477\n",
      "  (5163, 3971)\t0.1703525454577682\n",
      "  (5163, 3335)\t0.24957111336091167\n",
      "  (5163, 3055)\t0.19044910892600614\n",
      "  (5163, 2597)\t0.17328957909696743\n",
      "  (5164, 6009)\t0.681095490320652\n",
      "  (5164, 7482)\t0.5468181706050387\n",
      "  (5164, 4657)\t0.4869279426784106\n"
     ]
    }
   ],
   "source": [
    "print(X)"
   ]
  },
  {
   "cell_type": "code",
   "execution_count": 21,
   "id": "5bd6f7ad-79e6-4906-b485-a3ca2e4c7985",
   "metadata": {},
   "outputs": [],
   "source": [
    "from sklearn.model_selection import train_test_split\n",
    "X_train, X_test, y_train, y_test = train_test_split(\n",
    "    X, y, test_size=0.2, random_state=42, stratify=y\n",
    ")"
   ]
  },
  {
   "cell_type": "code",
   "execution_count": 22,
   "id": "5065d6c9-2107-492a-879c-d53901f52863",
   "metadata": {},
   "outputs": [
    {
     "name": "stdout",
     "output_type": "stream",
     "text": [
      "  (0, 3167)\t0.34558815810673343\n",
      "  (0, 3748)\t0.3545065785997939\n",
      "  (0, 2277)\t0.43323366009779823\n",
      "  (0, 744)\t0.43323366009779823\n",
      "  (0, 8132)\t0.3137640908684269\n",
      "  (0, 7946)\t0.22941753888251615\n",
      "  (0, 1945)\t0.2788061872981628\n",
      "  (0, 8224)\t0.24925122390013293\n",
      "  (0, 5863)\t0.29761002615090215\n",
      "  (1, 5660)\t0.612784296821067\n",
      "  (1, 5529)\t0.546164177071234\n",
      "  (1, 6205)\t0.3663442152951116\n",
      "  (1, 7857)\t0.35066582100900795\n",
      "  (1, 8280)\t0.26272703543697135\n",
      "  (2, 3904)\t0.41875104432347465\n",
      "  (2, 916)\t0.4760347779539389\n",
      "  (2, 3861)\t0.3144895589406708\n",
      "  (2, 4759)\t0.2970405757237268\n",
      "  (2, 7199)\t0.2995131265896444\n",
      "  (2, 2452)\t0.3470347816387963\n",
      "  (2, 2172)\t0.3727534374676103\n",
      "  (2, 2863)\t0.24862680655321864\n",
      "  (3, 3654)\t0.4575279608311305\n",
      "  (3, 3272)\t0.47947877362476243\n",
      "  (3, 463)\t0.47947877362476243\n",
      "  :\t:\n",
      "  (4129, 4306)\t0.17398974711464302\n",
      "  (4130, 4776)\t0.25463692484725947\n",
      "  (4130, 83)\t0.2668536371494205\n",
      "  (4130, 6853)\t0.2668536371494205\n",
      "  (4130, 1988)\t0.2154893728167696\n",
      "  (4130, 6978)\t0.22910773876541873\n",
      "  (4130, 75)\t0.22153560492136215\n",
      "  (4130, 3874)\t0.2154893728167696\n",
      "  (4130, 8227)\t0.379142811201508\n",
      "  (4130, 2945)\t0.1765918647096953\n",
      "  (4130, 3956)\t0.4977618765447478\n",
      "  (4130, 2449)\t0.1597305739494299\n",
      "  (4130, 7301)\t0.12980377898772655\n",
      "  (4130, 226)\t0.16868679797701758\n",
      "  (4130, 7659)\t0.11996335751054839\n",
      "  (4130, 4212)\t0.15084822847095242\n",
      "  (4130, 8280)\t0.09822836080129323\n",
      "  (4130, 4830)\t0.10876017300108812\n",
      "  (4130, 1948)\t0.12235589323664588\n",
      "  (4130, 4296)\t0.1765918647096953\n",
      "  (4131, 1825)\t0.5053072944905675\n",
      "  (4131, 1228)\t0.5053072944905675\n",
      "  (4131, 4579)\t0.4530295798155097\n",
      "  (4131, 659)\t0.482174037222959\n",
      "  (4131, 7659)\t0.22715957807132162\n"
     ]
    }
   ],
   "source": [
    "print(X_train)"
   ]
  },
  {
   "cell_type": "code",
   "execution_count": 23,
   "id": "db6cdfcb-4fc3-4c73-8ffd-309c280ef29b",
   "metadata": {},
   "outputs": [
    {
     "data": {
      "text/html": [
       "<style>#sk-container-id-1 {color: black;background-color: white;}#sk-container-id-1 pre{padding: 0;}#sk-container-id-1 div.sk-toggleable {background-color: white;}#sk-container-id-1 label.sk-toggleable__label {cursor: pointer;display: block;width: 100%;margin-bottom: 0;padding: 0.3em;box-sizing: border-box;text-align: center;}#sk-container-id-1 label.sk-toggleable__label-arrow:before {content: \"▸\";float: left;margin-right: 0.25em;color: #696969;}#sk-container-id-1 label.sk-toggleable__label-arrow:hover:before {color: black;}#sk-container-id-1 div.sk-estimator:hover label.sk-toggleable__label-arrow:before {color: black;}#sk-container-id-1 div.sk-toggleable__content {max-height: 0;max-width: 0;overflow: hidden;text-align: left;background-color: #f0f8ff;}#sk-container-id-1 div.sk-toggleable__content pre {margin: 0.2em;color: black;border-radius: 0.25em;background-color: #f0f8ff;}#sk-container-id-1 input.sk-toggleable__control:checked~div.sk-toggleable__content {max-height: 200px;max-width: 100%;overflow: auto;}#sk-container-id-1 input.sk-toggleable__control:checked~label.sk-toggleable__label-arrow:before {content: \"▾\";}#sk-container-id-1 div.sk-estimator input.sk-toggleable__control:checked~label.sk-toggleable__label {background-color: #d4ebff;}#sk-container-id-1 div.sk-label input.sk-toggleable__control:checked~label.sk-toggleable__label {background-color: #d4ebff;}#sk-container-id-1 input.sk-hidden--visually {border: 0;clip: rect(1px 1px 1px 1px);clip: rect(1px, 1px, 1px, 1px);height: 1px;margin: -1px;overflow: hidden;padding: 0;position: absolute;width: 1px;}#sk-container-id-1 div.sk-estimator {font-family: monospace;background-color: #f0f8ff;border: 1px dotted black;border-radius: 0.25em;box-sizing: border-box;margin-bottom: 0.5em;}#sk-container-id-1 div.sk-estimator:hover {background-color: #d4ebff;}#sk-container-id-1 div.sk-parallel-item::after {content: \"\";width: 100%;border-bottom: 1px solid gray;flex-grow: 1;}#sk-container-id-1 div.sk-label:hover label.sk-toggleable__label {background-color: #d4ebff;}#sk-container-id-1 div.sk-serial::before {content: \"\";position: absolute;border-left: 1px solid gray;box-sizing: border-box;top: 0;bottom: 0;left: 50%;z-index: 0;}#sk-container-id-1 div.sk-serial {display: flex;flex-direction: column;align-items: center;background-color: white;padding-right: 0.2em;padding-left: 0.2em;position: relative;}#sk-container-id-1 div.sk-item {position: relative;z-index: 1;}#sk-container-id-1 div.sk-parallel {display: flex;align-items: stretch;justify-content: center;background-color: white;position: relative;}#sk-container-id-1 div.sk-item::before, #sk-container-id-1 div.sk-parallel-item::before {content: \"\";position: absolute;border-left: 1px solid gray;box-sizing: border-box;top: 0;bottom: 0;left: 50%;z-index: -1;}#sk-container-id-1 div.sk-parallel-item {display: flex;flex-direction: column;z-index: 1;position: relative;background-color: white;}#sk-container-id-1 div.sk-parallel-item:first-child::after {align-self: flex-end;width: 50%;}#sk-container-id-1 div.sk-parallel-item:last-child::after {align-self: flex-start;width: 50%;}#sk-container-id-1 div.sk-parallel-item:only-child::after {width: 0;}#sk-container-id-1 div.sk-dashed-wrapped {border: 1px dashed gray;margin: 0 0.4em 0.5em 0.4em;box-sizing: border-box;padding-bottom: 0.4em;background-color: white;}#sk-container-id-1 div.sk-label label {font-family: monospace;font-weight: bold;display: inline-block;line-height: 1.2em;}#sk-container-id-1 div.sk-label-container {text-align: center;}#sk-container-id-1 div.sk-container {/* jupyter's `normalize.less` sets `[hidden] { display: none; }` but bootstrap.min.css set `[hidden] { display: none !important; }` so we also need the `!important` here to be able to override the default hidden behavior on the sphinx rendered scikit-learn.org. See: https://github.com/scikit-learn/scikit-learn/issues/21755 */display: inline-block !important;position: relative;}#sk-container-id-1 div.sk-text-repr-fallback {display: none;}</style><div id=\"sk-container-id-1\" class=\"sk-top-container\"><div class=\"sk-text-repr-fallback\"><pre>MultinomialNB(class_prior=[0.5, 0.5])</pre><b>In a Jupyter environment, please rerun this cell to show the HTML representation or trust the notebook. <br />On GitHub, the HTML representation is unable to render, please try loading this page with nbviewer.org.</b></div><div class=\"sk-container\" hidden><div class=\"sk-item\"><div class=\"sk-estimator sk-toggleable\"><input class=\"sk-toggleable__control sk-hidden--visually\" id=\"sk-estimator-id-1\" type=\"checkbox\" checked><label for=\"sk-estimator-id-1\" class=\"sk-toggleable__label sk-toggleable__label-arrow\">MultinomialNB</label><div class=\"sk-toggleable__content\"><pre>MultinomialNB(class_prior=[0.5, 0.5])</pre></div></div></div></div></div>"
      ],
      "text/plain": [
       "MultinomialNB(class_prior=[0.5, 0.5])"
      ]
     },
     "execution_count": 23,
     "metadata": {},
     "output_type": "execute_result"
    }
   ],
   "source": [
    "from sklearn.naive_bayes import MultinomialNB\n",
    "model = MultinomialNB(class_prior=[0.5, 0.5])\n",
    "model.fit(X_train, y_train)"
   ]
  },
  {
   "cell_type": "code",
   "execution_count": 24,
   "id": "daf502e5-5e30-41dc-9644-6299d782d88f",
   "metadata": {},
   "outputs": [],
   "source": [
    "y_pred = model.predict(X_test)"
   ]
  },
  {
   "cell_type": "code",
   "execution_count": 25,
   "id": "afb7492c-31a5-4b4d-ba5b-1b5dd59edb1c",
   "metadata": {},
   "outputs": [],
   "source": [
    "from sklearn.metrics import classification_report, confusion_matrix, accuracy_score\n",
    "import joblib "
   ]
  },
  {
   "cell_type": "code",
   "execution_count": 26,
   "id": "888822af-9c9e-47df-a4f8-1894919bcc1f",
   "metadata": {},
   "outputs": [
    {
     "name": "stdout",
     "output_type": "stream",
     "text": [
      "Accuracy: 0.9409486931268151\n"
     ]
    }
   ],
   "source": [
    "print(\"Accuracy:\", accuracy_score(y_test, y_pred))"
   ]
  },
  {
   "cell_type": "code",
   "execution_count": 27,
   "id": "0ce685d1-be8d-428c-b40b-b7f2d2c275e2",
   "metadata": {},
   "outputs": [
    {
     "name": "stdout",
     "output_type": "stream",
     "text": [
      "Confusion Matrix:\n",
      " [[850  52]\n",
      " [  9 122]]\n"
     ]
    }
   ],
   "source": [
    "print(\"Confusion Matrix:\\n\", confusion_matrix(y_test, y_pred))"
   ]
  },
  {
   "cell_type": "code",
   "execution_count": 28,
   "id": "8de15a9a-23f8-45c9-8eaf-2b5091e8bb37",
   "metadata": {},
   "outputs": [
    {
     "name": "stdout",
     "output_type": "stream",
     "text": [
      "Classification Report:\n",
      "               precision    recall  f1-score   support\n",
      "\n",
      "           0       0.99      0.94      0.97       902\n",
      "           1       0.70      0.93      0.80       131\n",
      "\n",
      "    accuracy                           0.94      1033\n",
      "   macro avg       0.85      0.94      0.88      1033\n",
      "weighted avg       0.95      0.94      0.94      1033\n",
      "\n"
     ]
    }
   ],
   "source": [
    "print(\"Classification Report:\\n\", classification_report(y_test, y_pred))"
   ]
  },
  {
   "cell_type": "code",
   "execution_count": 31,
   "id": "d8358cac-eac5-4c6d-a928-909595d8ec65",
   "metadata": {},
   "outputs": [
    {
     "data": {
      "text/plain": [
       "['../models/vectorizer.pkl']"
      ]
     },
     "execution_count": 31,
     "metadata": {},
     "output_type": "execute_result"
    }
   ],
   "source": [
    "joblib.dump(model, '../models/spam_classifier.pkl')\n",
    "joblib.dump(vectorizer, '../models/vectorizer.pkl')\n"
   ]
  },
  {
   "cell_type": "code",
   "execution_count": null,
   "id": "0fb02863-e93e-4920-81f0-84dc6e2a71a2",
   "metadata": {},
   "outputs": [],
   "source": []
  }
 ],
 "metadata": {
  "kernelspec": {
   "display_name": "Python 3 (ipykernel)",
   "language": "python",
   "name": "python3"
  },
  "language_info": {
   "codemirror_mode": {
    "name": "ipython",
    "version": 3
   },
   "file_extension": ".py",
   "mimetype": "text/x-python",
   "name": "python",
   "nbconvert_exporter": "python",
   "pygments_lexer": "ipython3",
   "version": "3.11.7"
  }
 },
 "nbformat": 4,
 "nbformat_minor": 5
}
